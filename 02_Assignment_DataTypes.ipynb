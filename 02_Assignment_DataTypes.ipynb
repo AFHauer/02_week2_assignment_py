{
 "cells": [
  {
   "cell_type": "markdown",
   "metadata": {},
   "source": [
    "# Week 2 Assignment\n",
    "This week, we'll dig into working with data types in Python. Next, we'll start to write some very basic expressions that can evaluate that data for us. In the process, we'll also unpack the power of methods to perform common tasks on the data whether they be numbers or text. Finally, we'll rewrite a bit of Shakespeare using methods and figure out how long until we can retire.\n",
    "\n",
    "Total points: 100"
   ]
  },
  {
   "cell_type": "markdown",
   "metadata": {},
   "source": [
    "### 1. (10 pts) Writing a Simple Expression\n",
    "Write a simple expression that includes a string with a variable for holding your favorite musician's first and last name and print this to the screen"
   ]
  },
  {
   "cell_type": "code",
   "execution_count": 1,
   "metadata": {},
   "outputs": [
    {
     "name": "stdout",
     "output_type": "stream",
     "text": [
      "Dave Grohl\n"
     ]
    }
   ],
   "source": [
    "# Answer #1 Goes Here\n",
    "\n",
    "# Favorite musicians first and last name\n",
    "fav_musician = \"Dave Grohl\"\n",
    "print(fav_musician)"
   ]
  },
  {
   "cell_type": "markdown",
   "metadata": {},
   "source": [
    "### 2.  (10 pts Passing in and returning variables\n",
    "Let's print to the screen a bit of explanatory text and then pass in your variable for your favorite musician. Ex: \"The greatest musician of all time is Bob Dylan\". "
   ]
  },
  {
   "cell_type": "code",
   "execution_count": 2,
   "metadata": {},
   "outputs": [
    {
     "name": "stdout",
     "output_type": "stream",
     "text": [
      "I am a fan of Dave Grohl.\n"
     ]
    }
   ],
   "source": [
    "# Answer #2 Goes Here\n",
    "\n",
    "# Some text about my favorite musician and passed variable name\n",
    "print(\"I am a fan of \" + str(fav_musician) + \".\")"
   ]
  },
  {
   "cell_type": "markdown",
   "metadata": {},
   "source": [
    "### 3. (10 pts) Basic String Methods\n",
    "Print out the third letter of the musician's first name. Hint: look up indexing and sequencing strings if stuck and consider breaking out the name into two variables "
   ]
  },
  {
   "cell_type": "code",
   "execution_count": 3,
   "metadata": {},
   "outputs": [
    {
     "name": "stdout",
     "output_type": "stream",
     "text": [
      "v\n"
     ]
    }
   ],
   "source": [
    "# Answer #3 Goes Here\n",
    "\n",
    "# split out the first name of my favorite musician\n",
    "first_name = fav_musician.split()[0]\n",
    "\n",
    "# print the 3rd letter of the first name\n",
    "print(first_name[2])"
   ]
  },
  {
   "cell_type": "markdown",
   "metadata": {},
   "source": [
    "### 4. (10 pts) Basic String Methods (cont'd)\n",
    "Print out and capitalize the entire first name of the musician and the length of the string. It should read \"The greatest musician of all time is NAME and they have X characters in their name\". Where X is the length of their name. Hint: use a handy string method for the length"
   ]
  },
  {
   "cell_type": "code",
   "execution_count": 4,
   "metadata": {},
   "outputs": [
    {
     "name": "stdout",
     "output_type": "stream",
     "text": [
      "The greatest musician of all time is DAVE and he has 4 characters in his first name.\n"
     ]
    }
   ],
   "source": [
    "# Answer #4 Goes Here\n",
    "\n",
    "# Print sentance with first_name variable, from answer 3, calling upper() function then len() function to get name length\n",
    "print(\"The greatest musician of all time is \" + str(first_name.upper()) + \" and he has \" +\n",
    "     str(len(first_name)) + \" characters in his first name.\")"
   ]
  },
  {
   "cell_type": "markdown",
   "metadata": {},
   "source": [
    "### 5. (10 pts) Formatted String\n",
    "Using a formatted string, print out the musicians first and last name. Hint: curly braces are your friend"
   ]
  },
  {
   "cell_type": "code",
   "execution_count": 5,
   "metadata": {},
   "outputs": [
    {
     "name": "stdout",
     "output_type": "stream",
     "text": [
      "The greatest musician of all time is Dave Grohl.\n"
     ]
    }
   ],
   "source": [
    "# Answer #5 Goes Here\n",
    "\n",
    "# create a sentance about my favorite musician\n",
    "txt = \"The greatest musician of all time is {} {}.\"\n",
    "\n",
    "# save the last_name variable, first_name alredy saved\n",
    "last_name = fav_musician.split()[1]\n",
    "\n",
    "# print out the formated sentance and string variables\n",
    "print(txt.format(first_name, last_name))"
   ]
  },
  {
   "cell_type": "markdown",
   "metadata": {},
   "source": [
    "### 6. (10 pts) Working with Integers\n",
    "Print out the result of adding 5 + 3.75 by setting up variables and also return the data type of the result (int? float?)"
   ]
  },
  {
   "cell_type": "code",
   "execution_count": 6,
   "metadata": {},
   "outputs": [
    {
     "name": "stdout",
     "output_type": "stream",
     "text": [
      "8.75\n",
      "<class 'float'>\n"
     ]
    }
   ],
   "source": [
    "# Answer #6 Goes Here\n",
    "\n",
    "# store the integer 5 and the float 3.75\n",
    "i = int(5)\n",
    "f = float(3.75)\n",
    "\n",
    "# do some math and store the value then print it out\n",
    "\n",
    "result = i + f\n",
    "print(result)\n",
    "\n",
    "# what type of value is result\n",
    "print(type(result))"
   ]
  },
  {
   "cell_type": "markdown",
   "metadata": {},
   "source": [
    "### 7. (10 pts) Working with Operators\n",
    "Write a simple equation that takes the number 4 and squares it and then adds 4. Next, divide this result by 2. Finally, subtract 30 but force this result to be a positive number using a method. You should get the final answer ti be 20."
   ]
  },
  {
   "cell_type": "code",
   "execution_count": 7,
   "metadata": {},
   "outputs": [
    {
     "name": "stdout",
     "output_type": "stream",
     "text": [
      "20.0\n"
     ]
    }
   ],
   "source": [
    "# Answer #7 Goes Here\n",
    "\n",
    "# first 4 squared plus 4\n",
    "answer = (4 ** 2) + 4\n",
    "\n",
    "# next divide answer by 2\n",
    "answer = answer/2\n",
    "\n",
    "# finally subtract 30 but force absolute value\n",
    "answer = abs(answer - 30)\n",
    "\n",
    "# display the answer\n",
    "print(answer)"
   ]
  },
  {
   "cell_type": "markdown",
   "metadata": {},
   "source": [
    "### 8. 15 pts - Strings and methods\n",
    "Shakespeare was gifted but we might rewrite a bit of sonnet.\n",
    "\n",
    "\n",
    "Sonnet 18, the Shall I compare thee to a summer’s day?\n",
    "Thou art more lovely and more temperate:\n",
    "Rough winds do shake the darling buds of May,\n",
    "And summer’s lease hath all too short a date;\n",
    "Sometime too hot the eye of heaven shines,\n",
    "And often is his gold complexion dimm'd;\n",
    "And every fair from fair sometime declines,\n",
    "By chance or nature’s changing course untrimm'd;\n",
    "But thy eternal summer shall not fade,\n",
    "Nor lose possession of that fair thou ow’st;\n",
    "Nor shall death brag thou wander’st in his shade,\n",
    "When in eternal lines to time thou grow’st:\n",
    "So long as men can breathe or eyes can see,\n",
    "So long lives this, and this gives life to thee.\n",
    "\n",
    "Using a few methods, count the number of times the word 'thee' appears and replace it with the word 'tho'. Print out a message that says, \"While thee occurs X times, I think it sounds better with tho.\\n See below:\" Where X is the result of your count method and the poem is rewritten with the word tho instead of thee "
   ]
  },
  {
   "cell_type": "code",
   "execution_count": 8,
   "metadata": {},
   "outputs": [
    {
     "data": {
      "text/markdown": [
       "While thee occurs 2 times, I think it sounds better with tho.\n",
       "\n",
       "Sonnet 18, the Shall I compare **tho** to a summer’s day? Thou art more lovely and more temperate: \n",
       "Rough winds do shake the darling buds of May, And summer’s lease hath all too short a date; Sometime too hot \n",
       "the eye of heaven shines, And often is his gold complexion dimm'd; And every fair from fair sometime declines, \n",
       "By chance or nature’s changing course untrimm'd; But thy eternal summer shall not fade, Nor lose possession of \n",
       "that fair thou ow’st; Nor shall death brag thou wander’st in his shade, When in eternal lines to time thou grow’st: \n",
       "So long as men can breathe or eyes can see, So long lives this, and this gives life to **tho**."
      ],
      "text/plain": [
       "<IPython.core.display.Markdown object>"
      ]
     },
     "metadata": {},
     "output_type": "display_data"
    }
   ],
   "source": [
    "# Answer #8 Goes Here\n",
    "\n",
    "# display markdown text in string print\n",
    "from IPython.display import Markdown, display\n",
    "def printmd(string):\n",
    "    display(Markdown(string))\n",
    "\n",
    "# store store sonnet 18 as a string variable \n",
    "sonnet_18 = \"\"\"Sonnet 18, the Shall I compare thee to a summer’s day? Thou art more lovely and more temperate: \n",
    "Rough winds do shake the darling buds of May, And summer’s lease hath all too short a date; Sometime too hot \n",
    "the eye of heaven shines, And often is his gold complexion dimm'd; And every fair from fair sometime declines, \n",
    "By chance or nature’s changing course untrimm'd; But thy eternal summer shall not fade, Nor lose possession of \n",
    "that fair thou ow’st; Nor shall death brag thou wander’st in his shade, When in eternal lines to time thou grow’st: \n",
    "So long as men can breathe or eyes can see, So long lives this, and this gives life to thee.\"\"\"\n",
    "\n",
    "# count using the count() method the number of times \"thee\" occures in the sonnet's string\n",
    "thee_count = sonnet_18.count('thee')\n",
    "\n",
    "# replace \"thee\" with \"tho\" using the replace() method\n",
    "sonnet_18 = sonnet_18.replace('thee', '**tho**')\n",
    "\n",
    "# using the printmd function which displays markdown in print output print the count of 'thee' in sonnet 18\n",
    "# and print the replaced \"thee\" with \"tho\" sonnet. I used the markdown function so I could bold the changes\n",
    "# making them eaisier to see.\n",
    "printmd(\"While thee occurs \" + str(thee_count) + \" times, I think it sounds better with tho.\\n\\n\" + sonnet_18)\n"
   ]
  },
  {
   "cell_type": "markdown",
   "metadata": {},
   "source": [
    "### 9. 15 pts - Integers and casting\n",
    "Let's tie everything together and think about how a simple method for calculating how long someone has to go until they get to retire. We'll take an input from a user for their age and set this as a variable. Next, we'll return the numbers of years they have to go for working by subtracting their age value from 65. Finally, we'll print out a statement that tells this user the following \"You have X years to go before you can retire\". Hint: make sure you cast your data types correctly for doing the math"
   ]
  },
  {
   "cell_type": "code",
   "execution_count": 3,
   "metadata": {},
   "outputs": [
    {
     "name": "stdout",
     "output_type": "stream",
     "text": [
      "Enter your age and hit enter: blah\n",
      "Please enter your age as an integer value.\n",
      "Enter your age and hit enter: 4.3\n",
      "Please enter your age as an integer value.\n",
      "Enter your age and hit enter: 12\n",
      "You have 53 years to go before you can retire.\n"
     ]
    }
   ],
   "source": [
    "# Answer #9 Goes Here\n",
    "\n",
    "# input and store age as variable age, run in while loop checking to make sure\n",
    "# that age variable is an integer. If age is not an integer continue to run the\n",
    "# loop until true.\n",
    "while True:\n",
    "    try:\n",
    "        age = int(input(\"Enter your age and hit enter: \"))\n",
    "    except ValueError:\n",
    "        print(\"Please enter your age as an integer value.\")\n",
    "        continue\n",
    "    else:\n",
    "        break\n",
    "\n",
    "# store retirement age as variable retirement\n",
    "retirement = 65\n",
    "\n",
    "# check age to see if age is less than the retirement age\n",
    "if (age >= retirement):\n",
    "    print(\"Why are you not retired? Go enjoy life!\") #if you are able to retire then do so\n",
    "else:\n",
    "    # find the time until retirement and store it as a string variable years_to_go\n",
    "    years_to_go = str(retirement - age)\n",
    "    \n",
    "    # store our text about number of years to go until retirement as variable txt\n",
    "    txt = \"You have {} years to go before you can retire.\"\n",
    "\n",
    "    # put it all together and print out the results\n",
    "    print(txt.format(years_to_go))"
   ]
  },
  {
   "cell_type": "code",
   "execution_count": null,
   "metadata": {},
   "outputs": [],
   "source": []
  }
 ],
 "metadata": {
  "kernelspec": {
   "display_name": "Python 3",
   "language": "python",
   "name": "python3"
  },
  "language_info": {
   "codemirror_mode": {
    "name": "ipython",
    "version": 3
   },
   "file_extension": ".py",
   "mimetype": "text/x-python",
   "name": "python",
   "nbconvert_exporter": "python",
   "pygments_lexer": "ipython3",
   "version": "3.8.8"
  }
 },
 "nbformat": 4,
 "nbformat_minor": 4
}
